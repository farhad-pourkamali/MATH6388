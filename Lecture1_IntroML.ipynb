{
 "cells": [
  {
   "cell_type": "markdown",
   "id": "870cde38",
   "metadata": {
    "slideshow": {
     "slide_type": "slide"
    }
   },
   "source": [
    "## MATH 6388: Statistical and Machine Learning\n",
    "\n",
    "### Lecture 1: Introduction to Machine Learning \n",
    "\n",
    "### Instructor: Farhad Pourkamali \n",
    "\n",
    "#### Department of Mathematical and Statistical Sciences\n",
    "#### University of Colorado Denver\n",
    "\n",
    "\n",
    "\n",
    "<img src=\"http://github.com/farhad-pourkamali/MATH6388/blob/main/images/logo.png?raw=true\"  width=700/>\n",
    "\n"
   ]
  },
  {
   "cell_type": "markdown",
   "id": "e3373754",
   "metadata": {
    "slideshow": {
     "slide_type": "slide"
    }
   },
   "source": [
    "### Why use machine learning?\n",
    "<hr style=\"border:2px solid gray\">\n",
    "\n",
    "* Let's design a system for predicting *bank loan default* based on several *features*, such as income, debt, etc. \n",
    "\n",
    "    * Classical programming: write down step-by-step instructions or rules \n",
    "    * Machine learning: figure out what the rules should be \n",
    "    \n",
    "<img src=\"https://github.com/farhad-pourkamali/MATH6388/blob/main/images/rules.png?raw=true\" width=650>    \n",
    "\n",
    "* A machine learning system is *trained* rather than being explicitly programmed\n",
    "    * Benefits\n",
    "        + Easier to develop/maintain \n",
    "        + More accurate\n",
    "    * Challenges\n",
    "        + We need features *and* responses, i.e., labeled data \n",
    "        + Can human users understand and trust these rules? \n",
    "        \n",
    "* In machine learning, *data labeling* involves assigning informative labels to raw data like images, text files, or videos\n",
    "\n",
    "\n",
    "* Machine learning moves beyond the confines of traditional statistical techniques and optimization algorithms\n",
    "    * Must handle large and complex data sets \n",
    "    * Requires a combination of math and coding skills \n",
    "\n",
    "* Thus, it is essential to be proficient in Python, scientific computing, and machine learning libraries to prepare data sets, implement algorithms, train models, and evaluate them\n"
   ]
  },
  {
   "cell_type": "markdown",
   "id": "7007aca0",
   "metadata": {},
   "source": [
    "### Learning rules and representations from data\n",
    "<hr style=\"border:2px solid gray\">\n",
    "\n",
    "* Let us revisit the bank loan default example\n",
    "    * We have some data points represented by their coordinates in $\\mathbb{R}^2$\n",
    "* Goal: develop a machine learning system that can take the coordinates $(x_1,x_2)$ of a sample and predict the label or outcome\n",
    "\n",
    "    * We can use logistic regression to solve this classification problem and find the classification rule\n",
    "\n",
    "<img src=\"\n",
    "https://github.com/farhad-pourkamali/MATH6388/blob/main/images/bank_logreg.png?raw=true\" width=350>    \n",
    "\n",
    "* What if we have a more extensive set of features? Debt, income, gender, occupation, photo, etc.\n",
    "    * Most interesting applications of machine learning involve\n",
    "        + High-dimensional data (e.g., thousands or millions of features)\n",
    "        + Limited labeled data availability\n",
    "        + High-risk, high-reward investments\n",
    "    * Thus, modern machine learning (and deep learning) can be defined as finding suitable *data representations* and *mappings from inputs to outputs* using a feedback signal\n",
    "    \n",
    "<img src=\"\n",
    "https://github.com/farhad-pourkamali/MATH6388/blob/main/images/mnist_2d.png?raw=true\" width=740>\n",
    "    \n",
    "    \n",
    "    "
   ]
  },
  {
   "cell_type": "markdown",
   "id": "1cd31283",
   "metadata": {},
   "source": [
    "### Multistage way to learn data representations and find mappings \n",
    "<hr style=\"border:2px solid gray\">\n",
    "\n",
    "* While specific implementations might vary depending on the algorithm and framework being used, here's a general overview of the training loop for machine learning models\n",
    "\n",
    "<img src=\"\n",
    "https://github.com/farhad-pourkamali/MATH6388/blob/main/images/ml_general.png?raw=true\" width=700>\n"
   ]
  },
  {
   "cell_type": "markdown",
   "id": "7c853465",
   "metadata": {},
   "source": [
    "### Categorization of machine learning algorithms based on three criteria\n",
    "<hr style=\"border:2px solid gray\">\n",
    "\n",
    "1. Data Supervision\n",
    "\n",
    "    * Supervised Learning\n",
    "        + The algorithm is trained on labeled data, where the input data is paired with the correct output\n",
    "    \n",
    "    * Unsupervised Learning\n",
    "       + The algorithm is trained on unlabeled data, where the goal is to find hidden patterns or structure in the data, such as clustering or dimensionality reduction\n",
    "    \n",
    "    *  Semi-Supervised Learning\n",
    "        + This is a combination of supervised and unsupervised learning, where the algorithm is trained on a mix of labeled and unlabeled data\n",
    "    \n",
    "2. Model Complexity\n",
    "\n",
    "    * Linear Models\n",
    "        + These models assume a linear relationship between the input features and the output\n",
    "    * Non-linear Models\n",
    "        + These models can capture more complex relationships between the inputs and outputs, such as neural networks, decision trees, etc.\n",
    "    * Deep Learning\n",
    "        + A subset of non-linear models, deep learning refers to models with many layers (deep neural networks) that can learn hierarchical features\n",
    "    \n",
    "3. Uncertainty Spectrum\n",
    "\n",
    "    * Deterministic Models\n",
    "        + These models make predictions without accounting for predictive uncertainty\n",
    "    * Conformal Prediction\n",
    "        + These models provide prediction intervals/sets with minimal distributional assumptions and computational burden \n",
    "    \n",
    "    * Bayesian Models\n",
    "        + These models explicitly use Bayesian probability principles to handle uncertainty, typically by modeling the uncertainty as probability distributions over model parameters"
   ]
  },
  {
   "cell_type": "markdown",
   "id": "dfbc265e",
   "metadata": {
    "slideshow": {
     "slide_type": "slide"
    }
   },
   "source": [
    "### Mathematical building blocks of machine learning\n",
    "<hr style=\"border:2px solid gray\">\n",
    "\n",
    "* Supervised learning: learn a mapping or function $f$ from inputs (features/predictors) $\\mathbf{x}\\in\\mathcal{X}$ to outputs $\\mathbf{y}\\in\\mathcal{Y}$. The data set is given in the form of $N$ input-output pairs $\\mathcal{D}=\\{(\\mathbf{x}_n,\\mathbf{y}_n)\\}_{n=1}^N$\n",
    "    + $N$ is the sample size and the number of features is $D$, i.e., $\\mathcal{X}=\\mathbb{R}^D$\n",
    "    + Multi-class classification: $\\mathcal{Y}=\\{1,2,\\ldots, C\\}$\n",
    "    + If we have two classes only (binary classification): $\\mathcal{Y}=\\{0,1\\}$\n",
    "    \n",
    "* Unsupervised learning: extract patterns (e.g., groups of similar samples) based on the available input data $\\mathcal{D}=\\{\\mathbf{x}_n\\}_{n=1}^N$\n"
   ]
  },
  {
   "cell_type": "markdown",
   "id": "87681037",
   "metadata": {
    "slideshow": {
     "slide_type": "slide"
    }
   },
   "source": [
    "### Model fitting/training\n",
    "<hr style=\"border:2px solid gray\">\n",
    "\n",
    "* Define *empirical risk* as the average loss on the training data (denote all unknown parameters by $\\boldsymbol{\\theta}$)\n",
    "\n",
    "$$ \\mathcal{L}(\\boldsymbol{\\theta}):=\\frac{1}{N}\\sum_{n=1}^N l(y_n, f(\\mathbf{x}_n;\\boldsymbol{\\theta}))$$\n",
    "\n",
    "where $l$ denotes the loss function \n",
    "* Example: zero-one loss $l(y, \\hat{y})=I(y\\neq \\hat{y})$, giving misclassification rate\n",
    "\n",
    "$$I(y\\neq \\hat{y})=\\begin{cases}1 & \\text{if } y\\neq \\hat{y}\\\\0 &\\text{if } y=\\hat{y} \\end{cases}$$\n",
    "\n",
    "* Empirical risk minimization (ERM): find a setting of the parameters $\\boldsymbol{\\theta}$ that minimizes the empirical risk\n",
    "\n",
    "$$ \\underset{\\boldsymbol{\\theta}}{\\operatorname{argmin}} \\mathcal{L}(\\boldsymbol{\\theta})=\\underset{\\boldsymbol{\\theta}}{\\operatorname{argmin}} \\frac{1}{N}\\sum_{n=1}^N l(y_n, f(\\mathbf{x}_n;\\boldsymbol{\\theta}))$$\n",
    "\n",
    "* Note: our true goal is to minimize the expected loss on *future data* that we have not yet\n",
    "seen, rather than just do well on the training set "
   ]
  },
  {
   "cell_type": "markdown",
   "id": "f17a3933",
   "metadata": {
    "slideshow": {
     "slide_type": "slide"
    }
   },
   "source": [
    "### Loss function for regression tasks\n",
    "<hr style=\"border:2px solid gray\">\n",
    "\n",
    "* Since the output is real-valued, the most common choice is to use quadratic loss\n",
    "$$l(y,\\hat{y})=(y-\\hat{y})^2$$\n",
    "\n",
    "* Empirical risk minimization\n",
    "$$MSE(\\boldsymbol{\\theta})=\\frac{1}{N}\\sum_{n=1}^N\\big(y_n - f(\\mathbf{x}_n;\\boldsymbol{\\theta})\\big)^2$$\n",
    "\n",
    "* Underlying assumption for linear regression \n",
    "$$f(\\mathbf{x};\\boldsymbol{\\theta})=w_0+w_1x_1+\\ldots+w_Dx_D=w_0+\\mathbf{w}^T\\mathbf{x}$$\n",
    "\n",
    "where $\\mathbf{w}=[w_1,\\ldots,w_D]\\in\\mathbb{R}^D$, $\\mathbf{x}=[x_1,\\ldots,x_D]\\in\\mathbb{R}^D$, $\\boldsymbol{\\theta}=\\{w_0,\\mathbf{w}\\}$"
   ]
  },
  {
   "cell_type": "markdown",
   "id": "bbcdfde9",
   "metadata": {
    "slideshow": {
     "slide_type": "slide"
    }
   },
   "source": [
    "### From Linear Regression to Deep Learning \n",
    "<hr style=\"border:2px solid gray\">\n",
    "\n",
    "* Let $\\phi(\\mathbf{x})$ be a feature vector derived from the input $\\mathbf{x}$ \n",
    "    + For example, $\\phi$ can be expressed as a composition of simpler functions\n",
    "    \n",
    "    $$f(\\mathbf{x};\\boldsymbol{\\theta})=w_0+\\mathbf{w}^T\\phi(\\mathbf{x};\\mathbf{V}) $$\n",
    "    where $\\boldsymbol{\\theta}=\\{w_0,\\mathbf{w}, \\mathbf{V}\\}$"
   ]
  },
  {
   "cell_type": "markdown",
   "id": "5ab05723",
   "metadata": {
    "slideshow": {
     "slide_type": "slide"
    }
   },
   "source": [
    "### Generalization\n",
    "\n",
    "<hr style=\"border:2px solid gray\">\n",
    "\n",
    "* Machine learning models tend to perform worse on new data than on their training data\n",
    "    * The model becomes overly specialized/sensitive to the training data (e.g., noise and randomness present in the data)\n",
    "\n",
    "* How to evaluate machine learning models and select the best one?\n",
    "\n",
    "* Train-Test Split\n",
    "    * The data set is divided into two  parts: a training set and a test set\n",
    "    * The training set is used to train the machine learning model, and the test set is used to evaluate its performance on new, unseen data\n",
    "\n",
    "    * Training risk: $\\mathcal{L}_{\\text{train}}:=\\frac{1}{|\\mathcal{D}_{\\text{train}}|}\\sum_{(\\mathbf{x},y)\\in\\mathcal{D}_{\\text{train}}}l(y,f(\\mathbf{x};\\boldsymbol{\\theta}))$\n",
    "\n",
    "    * Test risk: $\\mathcal{L}_{\\text{test}}:=\\frac{1}{|\\mathcal{D}_{\\text{test}}|}\\sum_{(\\mathbf{x},y)\\in\\mathcal{D}_{\\text{test}}}l(y,f(\\mathbf{x};\\boldsymbol{\\theta}))$\n",
    "\n",
    "    * Overfitting happens when $\\mathcal{L}_{\\text{test}}\\gg \\mathcal{L}_{\\text{train}}$\n",
    "\n",
    "    * Caveat: If you use the test set multiple times, you might end up overfitting to the test set itself\n",
    "    \n",
    "     <img src=\"https://github.com/farhad-pourkamali/MATH6388/blob/main/images/train_test.png?raw=true\" width=280>\n",
    "    \n",
    "\n",
    "* Train-Dev-Test Split\n",
    "    * Extends the concept of the train-test split by introducing a development (or validation) set\n",
    "    * Training set: Used to train the model's parameters\n",
    "    * Development (validation) set: Used to tune hyperparameters, assess different model architectures, and make decisions about the training process\n",
    "    * Test set: Used for the final evaluation of the model's performance\n",
    "    \n",
    "    <img src=\"https://github.com/farhad-pourkamali/MATH6388/blob/main/images/model_selection.png?raw=true\" width=420>\n",
    "    \n",
    "    \n",
    "* Monitoring a machine learning model after deployment is vital, as models can break and degrade in production\n",
    "    * Monitoring is not a one-time action that you do and forget about"
   ]
  },
  {
   "cell_type": "markdown",
   "id": "407f6554",
   "metadata": {
    "slideshow": {
     "slide_type": "slide"
    }
   },
   "source": [
    "### Maximum Likelihood Estimation\n",
    "\n",
    "<hr style=\"border:2px solid gray\">\n",
    "\n",
    "* Maximum Likelihood Estimation (MLE) is a statistical method used to *estimate* the parameters of a statistical model based on observed data\n",
    "\n",
    "    * The likelihood function quantifies the probability of observing the given data for different parameter values\n",
    "\n",
    "* Assume $N$ observations are independently sampled from the same distribution\n",
    "$$p(\\mathcal{D}|\\boldsymbol{\\theta})=\\prod_{n=1}^N p(\\mathbf{y}_n|\\mathbf{x}_n,\\boldsymbol{\\theta})$$\n",
    "* Find $\\boldsymbol{\\theta}$ at which the log likelihood (LL) function takes its maximum\n",
    "$$\\underset{\\boldsymbol{\\theta}}{\\operatorname{argmax}} LL(\\boldsymbol{\\theta}), \\text{where } LL(\\boldsymbol{\\theta}):=\\log p(\\mathcal{D}|\\boldsymbol{\\theta})= \\sum_{n=1}^N \\log p(\\mathbf{y}_n|\\mathbf{x}_n,\\boldsymbol{\\theta}) $$\n",
    "\n",
    "* Instead, minimize the negative log likelihood function (NLL)\n",
    "$$\\underset{\\boldsymbol{\\theta}}{\\operatorname{argmin}} - LL(\\boldsymbol{\\theta})=\\underset{\\boldsymbol{\\theta}}{\\operatorname{argmin}} \\sum_{n=1}^N \\underbrace{\\big(-\\log p(\\mathbf{y}_n|\\mathbf{x}_n,\\boldsymbol{\\theta})\\big)}_{\\text{loss function } l?}$$"
   ]
  },
  {
   "cell_type": "markdown",
   "id": "50cfedc4",
   "metadata": {
    "slideshow": {
     "slide_type": "slide"
    }
   },
   "source": [
    "### Bernoulli distribution and MLE (practice)\n",
    "\n",
    "<hr style=\"border:2px solid gray\">\n",
    "\n",
    "* Probability density function (PDF) with parameter $\\theta$\n",
    "$$p(y|\\theta)=\\theta^{I(y=1)}(1-\\theta)^{I(y=0)}=\\begin{cases}\\theta & \\text{if } y=1 \\\\ 1-\\theta & \\text{if } y=0\\end{cases}$$\n",
    "\n",
    "* Given $N$ observations $y_1,\\ldots,y_n$, form NLL\n",
    "\n",
    "$$\\begin{align} NLL(\\theta) &= -\\sum_{n=1}^N \\log p(y_n|\\theta) \\\\ & = -\\sum_{n=1}^N \\big[I(y_n=1)\\log \\theta +I(y_n=0)\\log (1-\\theta)\\big]\\\\&=-\\big[\\big(\\sum_{n=1}^N I(y_n=1)\\big)\\log\\theta +  \\big(\\sum_{n=1}^N I(y_n=0)\\big)\\log(1-\\theta)\\big] \\end{align}$$"
   ]
  },
  {
   "cell_type": "markdown",
   "id": "8b041131",
   "metadata": {
    "slideshow": {
     "slide_type": "slide"
    }
   },
   "source": [
    "### Bernoulli distribution and MLE (practice)\n",
    "\n",
    "<hr style=\"border:2px solid gray\">\n",
    "\n",
    "* Given $N$ observations with $N_1$ 1's and $N_0$ 0's \n",
    "\n",
    "$$NLL(\\theta)=-\\big[N_1\\log\\theta +N_0\\log(1-\\theta)\\big]$$\n",
    "\n",
    "* Set the derivative equal to 0 to find the solution\n",
    "\n",
    "$$\\frac{d}{d\\theta} NLL(\\theta)=-\\frac{N_1}{\\theta}+\\frac{N_0}{1-\\theta}=0\\rightarrow \\hat{\\theta}_{MLE}=\\frac{N_1}{N}$$\n"
   ]
  },
  {
   "cell_type": "markdown",
   "id": "d79ee840",
   "metadata": {
    "slideshow": {
     "slide_type": "fragment"
    }
   },
   "source": [
    "* Next slide shows how to use Python to solve the optimization problem\n",
    "\n",
    "$$\\underset{\\boldsymbol{\\theta}}{\\operatorname{argmin}} NLL(\\boldsymbol{\\theta})$$"
   ]
  },
  {
   "cell_type": "code",
   "execution_count": 1,
   "id": "2f2ae98c",
   "metadata": {
    "slideshow": {
     "slide_type": "slide"
    }
   },
   "outputs": [
    {
     "data": {
      "image/png": "[encoded data removed]",
      "text/plain": [
       "<Figure size 500x300 with 1 Axes>"
      ]
     },
     "metadata": {},
     "output_type": "display_data"
    }
   ],
   "source": [
    "import numpy as np \n",
    "import matplotlib.pyplot as plt\n",
    "plt.rcParams.update({'font.size': 14, \"figure.figsize\": (5,3)})\n",
    "\n",
    "N0, N1 = 40, 60\n",
    "def NLL(theta):\n",
    "    return -(N1*np.log(theta) + N0*np.log(1-theta)) \n",
    "\n",
    "theta = np.linspace(0.001,0.999,1000)\n",
    "plt.plot(theta, NLL(theta))\n",
    "plt.plot(theta[np.argmin(NLL(theta))], np.min(NLL(theta)), 'rD')\n",
    "plt.xlabel(r'$\\theta$')\n",
    "plt.ylabel(r'$NLL(\\theta)$', rotation=0)\n",
    "plt.grid()\n",
    "plt.show()"
   ]
  },
  {
   "cell_type": "markdown",
   "id": "5d06d3b2",
   "metadata": {
    "slideshow": {
     "slide_type": "skip"
    }
   },
   "source": [
    "### Tensors\n",
    "<hr style=\"border:2px solid gray\">\n",
    "\n",
    "* Understanding and implementing machine learning methods require mathematical concepts, such as \n",
    "    * tensors\n",
    "    * tensor operations \n",
    "    * differentiation: finding the derivative, or rate of change, of a function\n",
    "\n",
    "* Tensors are a generalization of vectors and matrices to an arbitrary number of dimensions\n",
    "\n",
    "    * In the context of tensors, a dimension is often called an \"axis\"\n",
    "    * The number of axes of a tensor is called its \"rank\" \n",
    "        + Scalars: rank-0 tensors \n",
    "        + Vectors: rank-1 tensors \n",
    "        + Matrices: rank-2 tensors \n",
    "        + Higher-rank tensors are very useful for representing complex data sets\n",
    "        \n",
    " <img src=\"https://github.com/farhad-pourkamali/MATH6388/blob/main/images/tensor.png?raw=true\" width=380>\n",
    "        \n",
    "* Four things you need to know about tensors\n",
    "    * Type $\\longrightarrow$ type\n",
    "        + The type() function is used to determine the type of an object \n",
    "    * Number of axes or rank $\\longrightarrow$ ndim\n",
    "    * Shape $\\longrightarrow$ shape \n",
    "    * Data type $\\longrightarrow$ dtype\n",
    "\n",
    "* NumPy\n",
    "    + Support for multi-dimensional arrays known as \"ndarray\" (vectors, matrices, etc.)\n",
    "    + A large collection of mathematical functions to operate on these arrays"
   ]
  },
  {
   "cell_type": "code",
   "execution_count": 2,
   "id": "8a036c87",
   "metadata": {},
   "outputs": [
    {
     "data": {
      "text/plain": [
       "array([1, 2, 4])"
      ]
     },
     "execution_count": 2,
     "metadata": {},
     "output_type": "execute_result"
    }
   ],
   "source": [
    "import numpy as np \n",
    "\n",
    "x = np.array([1, 2, 4])\n",
    "\n",
    "x"
   ]
  },
  {
   "cell_type": "code",
   "execution_count": 3,
   "id": "77d3dc27",
   "metadata": {},
   "outputs": [
    {
     "name": "stdout",
     "output_type": "stream",
     "text": [
      "<class 'numpy.ndarray'>\n"
     ]
    }
   ],
   "source": [
    "print(type(x))"
   ]
  },
  {
   "cell_type": "code",
   "execution_count": 4,
   "id": "b0dae0f5",
   "metadata": {},
   "outputs": [
    {
     "data": {
      "text/plain": [
       "1"
      ]
     },
     "execution_count": 4,
     "metadata": {},
     "output_type": "execute_result"
    }
   ],
   "source": [
    "x.ndim"
   ]
  },
  {
   "cell_type": "code",
   "execution_count": 5,
   "id": "0477203a",
   "metadata": {},
   "outputs": [
    {
     "data": {
      "text/plain": [
       "(3,)"
      ]
     },
     "execution_count": 5,
     "metadata": {},
     "output_type": "execute_result"
    }
   ],
   "source": [
    "x.shape"
   ]
  },
  {
   "cell_type": "code",
   "execution_count": 6,
   "id": "81e2c584",
   "metadata": {},
   "outputs": [
    {
     "data": {
      "text/plain": [
       "dtype('int64')"
      ]
     },
     "execution_count": 6,
     "metadata": {},
     "output_type": "execute_result"
    }
   ],
   "source": [
    "x.dtype"
   ]
  },
  {
   "cell_type": "code",
   "execution_count": 7,
   "id": "153b46c7",
   "metadata": {},
   "outputs": [
    {
     "data": {
      "text/plain": [
       "array([[1, 2, 4],\n",
       "       [3, 6, 5],\n",
       "       [2, 1, 3]])"
      ]
     },
     "execution_count": 7,
     "metadata": {},
     "output_type": "execute_result"
    }
   ],
   "source": [
    "y = np.array([[1, 2, 4],\n",
    "              [3, 6, 5],\n",
    "              [2, 1, 3]])\n",
    "\n",
    "y"
   ]
  },
  {
   "cell_type": "code",
   "execution_count": 8,
   "id": "9e5b9c07",
   "metadata": {},
   "outputs": [
    {
     "name": "stdout",
     "output_type": "stream",
     "text": [
      "2 (3, 3) int64\n"
     ]
    }
   ],
   "source": [
    "print(y.ndim, y.shape, y.dtype)"
   ]
  },
  {
   "cell_type": "code",
   "execution_count": 9,
   "id": "9d916b18",
   "metadata": {},
   "outputs": [
    {
     "data": {
      "text/plain": [
       "array([ 6,  9, 12])"
      ]
     },
     "execution_count": 9,
     "metadata": {},
     "output_type": "execute_result"
    }
   ],
   "source": [
    "# Why is indexing axes important?\n",
    "y.sum(axis=0)"
   ]
  },
  {
   "cell_type": "code",
   "execution_count": 10,
   "id": "7ab1780f",
   "metadata": {},
   "outputs": [
    {
     "data": {
      "text/plain": [
       "array([ 7, 14,  6])"
      ]
     },
     "execution_count": 10,
     "metadata": {},
     "output_type": "execute_result"
    }
   ],
   "source": [
    "y.sum(axis=1)"
   ]
  },
  {
   "cell_type": "code",
   "execution_count": 11,
   "id": "8f591887",
   "metadata": {},
   "outputs": [
    {
     "data": {
      "text/plain": [
       "array([[1, 2, 4],\n",
       "       [3, 6, 5],\n",
       "       [2, 1, 3]])"
      ]
     },
     "execution_count": 11,
     "metadata": {},
     "output_type": "execute_result"
    }
   ],
   "source": [
    "y"
   ]
  },
  {
   "cell_type": "code",
   "execution_count": 12,
   "id": "9049d549",
   "metadata": {},
   "outputs": [
    {
     "data": {
      "text/plain": [
       "array([[6, 5],\n",
       "       [1, 3]])"
      ]
     },
     "execution_count": 12,
     "metadata": {},
     "output_type": "execute_result"
    }
   ],
   "source": [
    "# tensor slicing\n",
    "y[1:,1:]"
   ]
  },
  {
   "cell_type": "code",
   "execution_count": 13,
   "id": "00694f45",
   "metadata": {},
   "outputs": [
    {
     "data": {
      "text/plain": [
       "array([[6, 5],\n",
       "       [1, 3]])"
      ]
     },
     "execution_count": 13,
     "metadata": {},
     "output_type": "execute_result"
    }
   ],
   "source": [
    "# negative indices indicate positions relative to the end of the current axis\n",
    "\n",
    "y[-2:,-2:]"
   ]
  },
  {
   "cell_type": "markdown",
   "id": "acdd0688",
   "metadata": {},
   "source": [
    "### Tensor operations \n",
    "<hr style=\"border:2px solid gray\">\n",
    "\n",
    "* When dealing with NumPy arrays, linear algebra operations, such as matrix-vector multiplication, dot products, and matrix factorizations, are available as well-optimized built-in NumPy functions\n",
    "\n",
    "    * One of the reasons for NumPy's speed is its utilization of Basic Linear Algebra Subprograms (BLAS) \n",
    "    \n",
    "    * These routines are typically implemented in low-level languages like Fortran or C\n",
    "    \n",
    "    * Highly optimized to take advantage of the underlying hardware's capabilities, such as vectorization and parallelism"
   ]
  },
  {
   "cell_type": "code",
   "execution_count": 14,
   "id": "ba6542f7",
   "metadata": {},
   "outputs": [
    {
     "name": "stdout",
     "output_type": "stream",
     "text": [
      "NumPy takes 0.0009 s\n"
     ]
    }
   ],
   "source": [
    "import numpy as np \n",
    "\n",
    "x = np.random.random((1000000,))\n",
    "y = np.random.random((1000000,))\n",
    "\n",
    "# time the difference between NumPy's np.dot and our implementation \n",
    "\n",
    "import time \n",
    "\n",
    "t0 = time.time()\n",
    "\n",
    "z = np.dot(x, y) # inner product of vectors\n",
    "\n",
    "t_numpy = time.time() - t0\n",
    "\n",
    "print(\"NumPy takes {:0.4f} s\".format(t_numpy))"
   ]
  },
  {
   "cell_type": "code",
   "execution_count": 15,
   "id": "3a4c4f83",
   "metadata": {},
   "outputs": [
    {
     "name": "stdout",
     "output_type": "stream",
     "text": [
      "Our implementation takes 0.1570 s, which is 166.1362 slower\n",
      "Difference: 6.2282197177410126e-09\n"
     ]
    }
   ],
   "source": [
    "def our_dot_product(x, y):\n",
    "    '''\n",
    "    Accepts two 1D arrays and returns the inner product\n",
    "    '''\n",
    "    # used as a debugging aid to check whether a given condition is True\n",
    "    assert len(x.shape) == 1 \n",
    "    assert len(y.shape) == 1\n",
    "    assert x.shape[0] == y.shape[0]\n",
    "    \n",
    "    z = 0.\n",
    "    \n",
    "    for i in range(x.shape[0]):\n",
    "        z += x[i] * y[i]\n",
    "        \n",
    "    return z \n",
    "\n",
    "t0 = time.time()\n",
    "\n",
    "z_our = our_dot_product(x, y)\n",
    "\n",
    "t_our = time.time() - t0\n",
    "\n",
    "print(\"Our implementation takes {:0.4f} s, which is {:0.4f} slower\".format(t_our, t_our/t_numpy))\n",
    "\n",
    "print(\"Difference: \" + str(z_our - z))\n"
   ]
  },
  {
   "cell_type": "code",
   "execution_count": 16,
   "id": "91d8d0cb",
   "metadata": {},
   "outputs": [
    {
     "name": "stdout",
     "output_type": "stream",
     "text": [
      "[[1. 2. 3.]\n",
      " [4. 5. 6.]] \n",
      "\n",
      " [[2. 3.]\n",
      " [1. 2.]\n",
      " [4. 2.]]\n"
     ]
    }
   ],
   "source": [
    "# Next, we use our implementation of inner product to perform matrix-matrix multiplication \n",
    "\n",
    "X = np.array([[1.,2,3],\n",
    "              [4,5,6]])\n",
    "\n",
    "Y = np.array([[2., 3],\n",
    "              [1,2],\n",
    "              [4,2]])\n",
    "\n",
    "print(X, '\\n\\n', Y)"
   ]
  },
  {
   "cell_type": "code",
   "execution_count": 17,
   "id": "5d35c210",
   "metadata": {},
   "outputs": [
    {
     "name": "stdout",
     "output_type": "stream",
     "text": [
      "[[16. 13.]\n",
      " [37. 34.]] \n",
      "\n",
      " [[16. 13.]\n",
      " [37. 34.]] \n",
      "\n",
      " [[16. 13.]\n",
      " [37. 34.]]\n"
     ]
    }
   ],
   "source": [
    "def our_matrix_product(X, Y):\n",
    "    assert len(X.shape) == 2\n",
    "    assert len(Y.shape) == 2\n",
    "    assert X.shape[1] == Y.shape[0]\n",
    "    \n",
    "    Z = np.zeros((X.shape[0], Y.shape[1]))\n",
    "    \n",
    "    for i in range(X.shape[0]):\n",
    "        for j in range(Y.shape[1]):\n",
    "            row_X = X[i,:]\n",
    "            column_Y = Y[:,j]\n",
    "            Z[i, j] = our_dot_product(row_X, column_Y)\n",
    "            \n",
    "    return Z \n",
    "\n",
    "Z_our = our_matrix_product(X, Y)\n",
    "\n",
    "Z_numpy = np.dot(X, Y)\n",
    "\n",
    "Z_numpy2 = np.matmul(X, Y) # Another way of performing matrix-matrix multiplication  \n",
    "\n",
    "print(Z_our, '\\n\\n', Z_numpy, '\\n\\n', Z_numpy2)\n"
   ]
  },
  {
   "cell_type": "code",
   "execution_count": 18,
   "id": "178f9a59",
   "metadata": {},
   "outputs": [],
   "source": [
    "# Higher-rank tensors \n",
    "\n",
    "from tensorflow.keras.datasets import mnist \n",
    "\n",
    "(train_images, train_labels), (test_images, test_labels) = mnist.load_data()\n"
   ]
  },
  {
   "cell_type": "code",
   "execution_count": 19,
   "id": "7ba577d2",
   "metadata": {},
   "outputs": [
    {
     "data": {
      "text/plain": [
       "(60000, 28, 28)"
      ]
     },
     "execution_count": 19,
     "metadata": {},
     "output_type": "execute_result"
    }
   ],
   "source": [
    "train_images.shape"
   ]
  },
  {
   "cell_type": "code",
   "execution_count": 20,
   "id": "2e6f06c3",
   "metadata": {},
   "outputs": [
    {
     "data": {
      "text/plain": [
       "(28, 28)"
      ]
     },
     "execution_count": 20,
     "metadata": {},
     "output_type": "execute_result"
    }
   ],
   "source": [
    "train_images[0].shape"
   ]
  },
  {
   "cell_type": "code",
   "execution_count": 21,
   "id": "56d0d9be",
   "metadata": {},
   "outputs": [
    {
     "data": {
      "image/png": "[encoded data removed]",
      "text/plain": [
       "<Figure size 500x300 with 1 Axes>"
      ]
     },
     "metadata": {},
     "output_type": "display_data"
    }
   ],
   "source": [
    "import matplotlib.pyplot as plt \n",
    "\n",
    "plt.imshow(train_images[0], cmap='binary')\n",
    "plt.show()"
   ]
  },
  {
   "cell_type": "code",
   "execution_count": 22,
   "id": "8e61f18d",
   "metadata": {},
   "outputs": [
    {
     "data": {
      "text/plain": [
       "(60000, 784)"
      ]
     },
     "execution_count": 22,
     "metadata": {},
     "output_type": "execute_result"
    }
   ],
   "source": [
    "train_images_rank2 = train_images.reshape((60000, 28 * 28))\n",
    "\n",
    "train_images_rank2.shape"
   ]
  },
  {
   "cell_type": "code",
   "execution_count": 23,
   "id": "4352ca67",
   "metadata": {},
   "outputs": [
    {
     "data": {
      "text/plain": [
       "array([[0, 0, 0, ..., 0, 0, 0],\n",
       "       [0, 0, 0, ..., 0, 0, 0],\n",
       "       [0, 0, 0, ..., 0, 0, 0],\n",
       "       [0, 0, 0, ..., 0, 0, 0]], dtype=uint8)"
      ]
     },
     "execution_count": 23,
     "metadata": {},
     "output_type": "execute_result"
    }
   ],
   "source": [
    "train_images_rank2[:4]"
   ]
  },
  {
   "cell_type": "code",
   "execution_count": 24,
   "id": "81f4ba1d",
   "metadata": {},
   "outputs": [
    {
     "data": {
      "text/plain": [
       "(128, 784)"
      ]
     },
     "execution_count": 24,
     "metadata": {},
     "output_type": "execute_result"
    }
   ],
   "source": [
    "# Find the n-th batch of 128 data points? \n",
    "\n",
    "n = 0\n",
    "\n",
    "train_images_rank2[128*n : 128*(n+1)].shape"
   ]
  },
  {
   "cell_type": "markdown",
   "id": "45cef7d0",
   "metadata": {},
   "source": [
    "### Automatic differentiation\n",
    "<hr style=\"border:2px solid gray\">\n",
    "\n",
    "* Gradients are a generalization of derivatives to functions that take tensors (multidimensional arrays) as inputs\n",
    "\n",
    "* Example: Consider $\\mathbf{x}=\\begin{bmatrix}x_1 \\\\ x_2\\end{bmatrix}$ and $f(\\mathbf{x})=\\|\\mathbf{x}\\|_2^2=x_1^2+x_2^2$\n",
    "    * Gradient \n",
    "    $$\\nabla f=\\begin{bmatrix}\\frac{\\partial f}{\\partial x_1}\\\\ \\frac{\\partial f}{\\partial x_2}\\end{bmatrix}=\\begin{bmatrix}2x_1 \\\\2x_2\\end{bmatrix}=2\\mathbf{x}$$\n",
    "    \n",
    "* The idea behind automatic differentiation is to allow the computation of gradients without manually specifying the derivative formulas\n",
    "\n"
   ]
  },
  {
   "cell_type": "code",
   "execution_count": 25,
   "id": "20453484",
   "metadata": {},
   "outputs": [
    {
     "name": "stdout",
     "output_type": "stream",
     "text": [
      "Metal device set to: Apple M2 Max\n",
      "tf.Tensor([2. 8.], shape=(2,), dtype=float32)\n"
     ]
    }
   ],
   "source": [
    "import tensorflow as tf\n",
    "\n",
    "x = tf.Variable([1.0, 4.0])\n",
    "\n",
    "with tf.GradientTape() as tape: # TensorFlow API for automatic differentiation\n",
    "    y = x**2\n",
    "    \n",
    "# Compute gradients\n",
    "dy_dx = tape.gradient(y, x)\n",
    "\n",
    "print(dy_dx)"
   ]
  },
  {
   "cell_type": "markdown",
   "id": "151de6fb",
   "metadata": {},
   "source": [
    "#### Consider a simplified linear regression model as follows \n",
    "\n",
    " <img src=\"https://github.com/farhad-pourkamali/MATH6388/blob/main/images/simplelin.png?raw=true\" width=450>\n",
    "\n",
    "\n",
    "\n"
   ]
  },
  {
   "cell_type": "code",
   "execution_count": 26,
   "id": "b2c4fdb1",
   "metadata": {},
   "outputs": [
    {
     "name": "stdout",
     "output_type": "stream",
     "text": [
      "tf.Tensor(\n",
      "[[0.46667656]\n",
      " [1.2368275 ]], shape=(2, 1), dtype=float32)\n"
     ]
    }
   ],
   "source": [
    "w = tf.Variable(tf.random.uniform((2, 1)))\n",
    "x = tf.Variable(tf.random.uniform((2, 1)))\n",
    "\n",
    "with tf.GradientTape() as tape:\n",
    "    y = tf.matmul(tf.transpose(x), w)\n",
    "    loss = y**2\n",
    "\n",
    "dl_dw = tape.gradient(loss, w)\n",
    "\n",
    "print(dl_dw)"
   ]
  },
  {
   "cell_type": "code",
   "execution_count": 27,
   "id": "cc05aa3a",
   "metadata": {},
   "outputs": [
    {
     "data": {
      "text/plain": [
       "<tf.Tensor: shape=(1, 1), dtype=float32, numpy=array([[0.46667662]], dtype=float32)>"
      ]
     },
     "execution_count": 27,
     "metadata": {},
     "output_type": "execute_result"
    }
   ],
   "source": [
    "# Can we verify this result? \n",
    "\n",
    "2 * tf.matmul(tf.transpose(x), w) * x[0]"
   ]
  },
  {
   "cell_type": "code",
   "execution_count": 28,
   "id": "8e5c3521",
   "metadata": {},
   "outputs": [
    {
     "data": {
      "text/plain": [
       "<tf.Tensor: shape=(1, 1), dtype=float32, numpy=array([[1.2368276]], dtype=float32)>"
      ]
     },
     "execution_count": 28,
     "metadata": {},
     "output_type": "execute_result"
    }
   ],
   "source": [
    "2 * tf.matmul(tf.transpose(x), w) * x[1]"
   ]
  },
  {
   "cell_type": "markdown",
   "id": "db5d01f9",
   "metadata": {},
   "source": [
    "### Programming Paradigms \n",
    "<hr style=\"border:2px solid gray\">\n",
    "\n",
    "* Procedural Programming\n",
    "    + Code as a sequence of steps \n",
    "    + Ideal for analyzing data (statistical analysis)\n",
    "\n",
    "* Object-Oriented Programming (OOP)\n",
    "    + Code as a collection and interaction of *objects*\n",
    "    + Ideal for building versatile and reusable tools/frameworks "
   ]
  },
  {
   "cell_type": "markdown",
   "id": "6d974a46",
   "metadata": {},
   "source": [
    "### What is an object?\n",
    "<hr style=\"border:2px solid gray\">\n",
    "\n",
    "* An object is a data structure incorporating information about \n",
    "    + State: How the object looks or what properties it has\n",
    "    + Behavior: What the object does or how to operate on\n",
    "    \n",
    "* Encapsulation: Bundling of states and behaviors\n",
    "* Python: \n",
    "    * State $\\longrightarrow$ Attribute (variable)\n",
    "    * Behavior $\\longrightarrow$ Method (function)"
   ]
  },
  {
   "cell_type": "markdown",
   "id": "2764f93d",
   "metadata": {},
   "source": [
    "### What is a class?\n",
    "\n",
    "<hr style=\"border:2px solid gray\">\n",
    "\n",
    "* Blueprint or template for objects outlining possible states and behaviors "
   ]
  },
  {
   "cell_type": "code",
   "execution_count": 29,
   "id": "24b12a43",
   "metadata": {},
   "outputs": [],
   "source": [
    "# The 'self' keyword refers to the instance of the class itself\n",
    "# and allows you to access and modify its attributes and methods\n",
    "\n",
    "class Student: \n",
    "    def set_name(self, new_name):\n",
    "        self.name = new_name \n",
    "        \n",
    "    def set_grade(self, new_grade):\n",
    "        self.grade = new_grade \n",
    "        \n",
    "    def give_bonus(self, amount):\n",
    "        self.grade += amount"
   ]
  },
  {
   "cell_type": "code",
   "execution_count": 30,
   "id": "f4e5229e",
   "metadata": {},
   "outputs": [],
   "source": [
    "student = Student()\n",
    "\n",
    "student.set_name(\"Carol\")\n",
    "\n",
    "student.set_grade(93)"
   ]
  },
  {
   "cell_type": "code",
   "execution_count": 31,
   "id": "de55b839",
   "metadata": {},
   "outputs": [
    {
     "name": "stdout",
     "output_type": "stream",
     "text": [
      "Carol 93\n"
     ]
    }
   ],
   "source": [
    "print(student.name, student.grade)"
   ]
  },
  {
   "cell_type": "code",
   "execution_count": 32,
   "id": "dc3a7333",
   "metadata": {},
   "outputs": [
    {
     "name": "stdout",
     "output_type": "stream",
     "text": [
      "100\n"
     ]
    }
   ],
   "source": [
    "student.give_bonus(7)\n",
    "\n",
    "print(student.grade)"
   ]
  },
  {
   "cell_type": "code",
   "execution_count": 33,
   "id": "c9d3eded",
   "metadata": {},
   "outputs": [],
   "source": [
    "# Constructor __init__() method is called every time an object is created \n",
    "\n",
    "class Student: \n",
    "    def __init__(self, new_name, new_grade=50):\n",
    "        self.name = new_name \n",
    "        self.grade = new_grade\n",
    "        \n",
    "    def give_bonus(self, amount):\n",
    "        self.grade += amount"
   ]
  },
  {
   "cell_type": "code",
   "execution_count": 34,
   "id": "de4b557e",
   "metadata": {},
   "outputs": [
    {
     "name": "stdout",
     "output_type": "stream",
     "text": [
      "Rachel 50\n"
     ]
    }
   ],
   "source": [
    "student2 = Student(new_name=\"Rachel\")\n",
    "\n",
    "print(student2.name, student2.grade)"
   ]
  },
  {
   "cell_type": "code",
   "execution_count": 35,
   "id": "c294e879",
   "metadata": {},
   "outputs": [
    {
     "name": "stdout",
     "output_type": "stream",
     "text": [
      "Carol 100\n"
     ]
    }
   ],
   "source": [
    "student2.give_bonus(40)\n",
    "\n",
    "print(student.name, student.grade)"
   ]
  }
 ],
 "metadata": {
  "kernelspec": {
   "display_name": "Python 3 (ipykernel)",
   "language": "python",
   "name": "python3"
  },
  "language_info": {
   "codemirror_mode": {
    "name": "ipython",
    "version": 3
   },
   "file_extension": ".py",
   "mimetype": "text/x-python",
   "name": "python",
   "nbconvert_exporter": "python",
   "pygments_lexer": "ipython3",
   "version": "3.10.9"
  }
 },
 "nbformat": 4,
 "nbformat_minor": 5
}
